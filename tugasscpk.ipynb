{
 "cells": [
  {
   "cell_type": "code",
   "execution_count": 1,
   "metadata": {},
   "outputs": [],
   "source": [
    "import pandas as pd\n",
    "import numpy as np\n",
    "import matplotlib.pyplot as plt"
   ]
  },
  {
   "cell_type": "code",
   "execution_count": 21,
   "metadata": {},
   "outputs": [],
   "source": [
    "df = pd.read_csv(\"datatugas.csv\")"
   ]
  },
  {
   "cell_type": "code",
   "execution_count": 22,
   "metadata": {},
   "outputs": [
    {
     "data": {
      "text/html": [
       "<div>\n",
       "<style scoped>\n",
       "    .dataframe tbody tr th:only-of-type {\n",
       "        vertical-align: middle;\n",
       "    }\n",
       "\n",
       "    .dataframe tbody tr th {\n",
       "        vertical-align: top;\n",
       "    }\n",
       "\n",
       "    .dataframe thead th {\n",
       "        text-align: right;\n",
       "    }\n",
       "</style>\n",
       "<table border=\"1\" class=\"dataframe\">\n",
       "  <thead>\n",
       "    <tr style=\"text-align: right;\">\n",
       "      <th></th>\n",
       "      <th>Kehadiran</th>\n",
       "      <th>Lingkungan</th>\n",
       "      <th>Kerjasama</th>\n",
       "      <th>Prakarsa</th>\n",
       "      <th>Rekomendasi</th>\n",
       "    </tr>\n",
       "  </thead>\n",
       "  <tbody>\n",
       "    <tr>\n",
       "      <th>0</th>\n",
       "      <td>8.7</td>\n",
       "      <td>5.4</td>\n",
       "      <td>7.0</td>\n",
       "      <td>1.2</td>\n",
       "      <td>Tidak</td>\n",
       "    </tr>\n",
       "    <tr>\n",
       "      <th>1</th>\n",
       "      <td>7.5</td>\n",
       "      <td>9.4</td>\n",
       "      <td>5.8</td>\n",
       "      <td>8.4</td>\n",
       "      <td>Ya</td>\n",
       "    </tr>\n",
       "    <tr>\n",
       "      <th>2</th>\n",
       "      <td>8.3</td>\n",
       "      <td>4.6</td>\n",
       "      <td>4.8</td>\n",
       "      <td>6.9</td>\n",
       "      <td>Tidak</td>\n",
       "    </tr>\n",
       "    <tr>\n",
       "      <th>3</th>\n",
       "      <td>9.1</td>\n",
       "      <td>7.5</td>\n",
       "      <td>6.3</td>\n",
       "      <td>9.5</td>\n",
       "      <td>Ya</td>\n",
       "    </tr>\n",
       "    <tr>\n",
       "      <th>4</th>\n",
       "      <td>8.6</td>\n",
       "      <td>6.7</td>\n",
       "      <td>7.6</td>\n",
       "      <td>8.3</td>\n",
       "      <td>Ya</td>\n",
       "    </tr>\n",
       "    <tr>\n",
       "      <th>5</th>\n",
       "      <td>7.1</td>\n",
       "      <td>7.2</td>\n",
       "      <td>4.5</td>\n",
       "      <td>9.1</td>\n",
       "      <td>Ya</td>\n",
       "    </tr>\n",
       "    <tr>\n",
       "      <th>6</th>\n",
       "      <td>2.4</td>\n",
       "      <td>6.1</td>\n",
       "      <td>3.4</td>\n",
       "      <td>7.5</td>\n",
       "      <td>Tidak</td>\n",
       "    </tr>\n",
       "    <tr>\n",
       "      <th>7</th>\n",
       "      <td>9.5</td>\n",
       "      <td>8.6</td>\n",
       "      <td>2.5</td>\n",
       "      <td>6.1</td>\n",
       "      <td>Ya</td>\n",
       "    </tr>\n",
       "    <tr>\n",
       "      <th>8</th>\n",
       "      <td>8.8</td>\n",
       "      <td>7.8</td>\n",
       "      <td>7.5</td>\n",
       "      <td>9.0</td>\n",
       "      <td>Ya</td>\n",
       "    </tr>\n",
       "    <tr>\n",
       "      <th>9</th>\n",
       "      <td>3.4</td>\n",
       "      <td>4.5</td>\n",
       "      <td>2.3</td>\n",
       "      <td>7.7</td>\n",
       "      <td>Tidak</td>\n",
       "    </tr>\n",
       "    <tr>\n",
       "      <th>10</th>\n",
       "      <td>6.5</td>\n",
       "      <td>7.2</td>\n",
       "      <td>6.9</td>\n",
       "      <td>6.4</td>\n",
       "      <td>Tidak</td>\n",
       "    </tr>\n",
       "    <tr>\n",
       "      <th>11</th>\n",
       "      <td>8.2</td>\n",
       "      <td>6.4</td>\n",
       "      <td>7.1</td>\n",
       "      <td>3.0</td>\n",
       "      <td>Ya</td>\n",
       "    </tr>\n",
       "    <tr>\n",
       "      <th>12</th>\n",
       "      <td>6.8</td>\n",
       "      <td>7.5</td>\n",
       "      <td>6.2</td>\n",
       "      <td>9.1</td>\n",
       "      <td>Ya</td>\n",
       "    </tr>\n",
       "    <tr>\n",
       "      <th>13</th>\n",
       "      <td>8.5</td>\n",
       "      <td>6.2</td>\n",
       "      <td>6.4</td>\n",
       "      <td>9.4</td>\n",
       "      <td>Ya</td>\n",
       "    </tr>\n",
       "    <tr>\n",
       "      <th>14</th>\n",
       "      <td>9.3</td>\n",
       "      <td>8.6</td>\n",
       "      <td>5.0</td>\n",
       "      <td>8.7</td>\n",
       "      <td>Ya</td>\n",
       "    </tr>\n",
       "    <tr>\n",
       "      <th>15</th>\n",
       "      <td>6.8</td>\n",
       "      <td>5.3</td>\n",
       "      <td>4.1</td>\n",
       "      <td>6.8</td>\n",
       "      <td>Tidak</td>\n",
       "    </tr>\n",
       "    <tr>\n",
       "      <th>16</th>\n",
       "      <td>6.4</td>\n",
       "      <td>4.8</td>\n",
       "      <td>7.1</td>\n",
       "      <td>8.5</td>\n",
       "      <td>Ya</td>\n",
       "    </tr>\n",
       "    <tr>\n",
       "      <th>17</th>\n",
       "      <td>7.6</td>\n",
       "      <td>4.5</td>\n",
       "      <td>6.7</td>\n",
       "      <td>1.5</td>\n",
       "      <td>Tidak</td>\n",
       "    </tr>\n",
       "    <tr>\n",
       "      <th>18</th>\n",
       "      <td>4.8</td>\n",
       "      <td>8.2</td>\n",
       "      <td>7.5</td>\n",
       "      <td>8.5</td>\n",
       "      <td>Ya</td>\n",
       "    </tr>\n",
       "    <tr>\n",
       "      <th>19</th>\n",
       "      <td>2.8</td>\n",
       "      <td>6.7</td>\n",
       "      <td>4.3</td>\n",
       "      <td>7.2</td>\n",
       "      <td>Tidak</td>\n",
       "    </tr>\n",
       "  </tbody>\n",
       "</table>\n",
       "</div>"
      ],
      "text/plain": [
       "    Kehadiran  Lingkungan  Kerjasama  Prakarsa Rekomendasi\n",
       "0         8.7         5.4        7.0       1.2       Tidak\n",
       "1         7.5         9.4        5.8       8.4          Ya\n",
       "2         8.3         4.6        4.8       6.9       Tidak\n",
       "3         9.1         7.5        6.3       9.5          Ya\n",
       "4         8.6         6.7        7.6       8.3          Ya\n",
       "5         7.1         7.2        4.5       9.1          Ya\n",
       "6         2.4         6.1        3.4       7.5       Tidak\n",
       "7         9.5         8.6        2.5       6.1          Ya\n",
       "8         8.8         7.8        7.5       9.0          Ya\n",
       "9         3.4         4.5        2.3       7.7       Tidak\n",
       "10        6.5         7.2        6.9       6.4       Tidak\n",
       "11        8.2         6.4        7.1       3.0          Ya\n",
       "12        6.8         7.5        6.2       9.1          Ya\n",
       "13        8.5         6.2        6.4       9.4          Ya\n",
       "14        9.3         8.6        5.0       8.7          Ya\n",
       "15        6.8         5.3        4.1       6.8       Tidak\n",
       "16        6.4         4.8        7.1       8.5          Ya\n",
       "17        7.6         4.5        6.7       1.5       Tidak\n",
       "18        4.8         8.2        7.5       8.5          Ya\n",
       "19        2.8         6.7        4.3       7.2       Tidak"
      ]
     },
     "execution_count": 22,
     "metadata": {},
     "output_type": "execute_result"
    }
   ],
   "source": [
    "df"
   ]
  },
  {
   "cell_type": "code",
   "execution_count": 34,
   "metadata": {},
   "outputs": [
    {
     "data": {
      "image/png": "[encoded data removed]",
      "text/plain": [
       "<Figure size 432x288 with 1 Axes>"
      ]
     },
     "metadata": {
      "needs_background": "light"
     },
     "output_type": "display_data"
    }
   ],
   "source": [
    "Ya = df[df[\"Rekomendasi\"] == \"Ya\"]\n",
    "Tidak = df[df[\"Rekomendasi\"] == \"Tidak\"]\n",
    "\n",
    "data = (Ya, Tidak)\n",
    "colors = (\"blue\",\"red\")\n",
    "groups = (\"Ya\", \"Tidak\")\n",
    "\n",
    "for data, color, group in zip(data, colors, groups):\n",
    "    x, y = data[\"Kerjasama\"], data[\"Prakarsa\"]\n",
    "    plt.scatter(x, y, c=color, label=group)\n",
    "plt.legend()\n",
    "plt.title(\"Plot\")\n",
    "plt.xlabel(\"Kehadiran\")\n",
    "plt.ylabel(\"Prakarsa\")\n",
    "plt.show()"
   ]
  },
  {
   "cell_type": "code",
   "execution_count": null,
   "metadata": {},
   "outputs": [],
   "source": []
  },
  {
   "cell_type": "code",
   "execution_count": 36,
   "metadata": {},
   "outputs": [],
   "source": [
    "from sklearn.neighbors import KNeighborsClassifier"
   ]
  },
  {
   "cell_type": "code",
   "execution_count": 37,
   "metadata": {},
   "outputs": [
    {
     "name": "stdout",
     "output_type": "stream",
     "text": [
      "    Kehadiran  Lingkungan  Kerjasama  Prakarsa\n",
      "0         8.7         5.4        7.0       1.2\n",
      "1         7.5         9.4        5.8       8.4\n",
      "2         8.3         4.6        4.8       6.9\n",
      "3         9.1         7.5        6.3       9.5\n",
      "4         8.6         6.7        7.6       8.3\n",
      "5         7.1         7.2        4.5       9.1\n",
      "6         2.4         6.1        3.4       7.5\n",
      "7         9.5         8.6        2.5       6.1\n",
      "8         8.8         7.8        7.5       9.0\n",
      "9         3.4         4.5        2.3       7.7\n",
      "10        6.5         7.2        6.9       6.4\n",
      "11        8.2         6.4        7.1       3.0\n",
      "12        6.8         7.5        6.2       9.1\n",
      "13        8.5         6.2        6.4       9.4\n",
      "14        9.3         8.6        5.0       8.7\n",
      "15        6.8         5.3        4.1       6.8\n",
      "16        6.4         4.8        7.1       8.5\n",
      "17        7.6         4.5        6.7       1.5\n",
      "18        4.8         8.2        7.5       8.5\n",
      "19        2.8         6.7        4.3       7.2\n",
      "0     Tidak\n",
      "1        Ya\n",
      "2     Tidak\n",
      "3        Ya\n",
      "4        Ya\n",
      "5        Ya\n",
      "6     Tidak\n",
      "7        Ya\n",
      "8        Ya\n",
      "9     Tidak\n",
      "10    Tidak\n",
      "11       Ya\n",
      "12       Ya\n",
      "13       Ya\n",
      "14       Ya\n",
      "15    Tidak\n",
      "16       Ya\n",
      "17    Tidak\n",
      "18       Ya\n",
      "19    Tidak\n",
      "Name: Rekomendasi, dtype: object\n"
     ]
    }
   ],
   "source": [
    "X = df.iloc[:, :4]\n",
    "y = df.iloc[:, 4]\n",
    "print(X)\n",
    "print(y)"
   ]
  },
  {
   "cell_type": "code",
   "execution_count": 38,
   "metadata": {},
   "outputs": [
    {
     "data": {
      "text/plain": [
       "KNeighborsClassifier(algorithm='auto', leaf_size=30, metric='minkowski',\n",
       "                     metric_params=None, n_jobs=None, n_neighbors=3, p=2,\n",
       "                     weights='uniform')"
      ]
     },
     "execution_count": 38,
     "metadata": {},
     "output_type": "execute_result"
    }
   ],
   "source": [
    "knn = KNeighborsClassifier(n_neighbors=3)\n",
    "knn.fit(X,y)"
   ]
  },
  {
   "cell_type": "code",
   "execution_count": 39,
   "metadata": {},
   "outputs": [
    {
     "data": {
      "text/plain": [
       "array(['Ya'], dtype=object)"
      ]
     },
     "execution_count": 39,
     "metadata": {},
     "output_type": "execute_result"
    }
   ],
   "source": [
    "#Firman memiliki atribut kehadiran rajin, lingkungan kurang peduli, kerjasama mampu, prakarsa inisiatif\n",
    "data_test1 = {\n",
    "    'Kehadiran' : [8.4],\n",
    "    'Lingkungan' : [5.8],\n",
    "    'Kerjasama' : [8.5],\n",
    "    'Prakarsa' : [8.4],\n",
    "}\n",
    "\n",
    "firman = pd.DataFrame(data_test1)\n",
    "knn.predict(firman)"
   ]
  },
  {
   "cell_type": "code",
   "execution_count": 40,
   "metadata": {},
   "outputs": [
    {
     "data": {
      "text/plain": [
       "array(['Tidak'], dtype=object)"
      ]
     },
     "execution_count": 40,
     "metadata": {},
     "output_type": "execute_result"
    }
   ],
   "source": [
    "#Aulia memiliki atribut kehadiran kurang, lingkungan peduli, kerjasama tak mampu, prakarsa kurang\n",
    "data_test2 = {\n",
    "    'Kehadiran' : [4.8],\n",
    "    'Lingkungan' : [8.3],\n",
    "    'Kerjasama' : [1.9],\n",
    "    'Prakarsa' : [6.9],\n",
    "}\n",
    "\n",
    "aulia = pd.DataFrame(data_test2)\n",
    "knn.predict(aulia)"
   ]
  },
  {
   "cell_type": "code",
   "execution_count": 41,
   "metadata": {},
   "outputs": [
    {
     "data": {
      "text/plain": [
       "array(['Ya'], dtype=object)"
      ]
     },
     "execution_count": 41,
     "metadata": {},
     "output_type": "execute_result"
    }
   ],
   "source": [
    "#Insani memiliki atribut kehadiran kurang, linkungan peduli, kerjasama mampu, prakarsa inisiatif\n",
    "data_test3 = {\n",
    "    'Kehadiran' : [3.6],\n",
    "    'Lingkungan' : [7.8],\n",
    "    'Kerjasama' : [9.5],\n",
    "    'Prakarsa' : [8.4],\n",
    "}\n",
    "\n",
    "insani = pd.DataFrame(data_test3)\n",
    "knn.predict(insani)"
   ]
  },
  {
   "cell_type": "code",
   "execution_count": 42,
   "metadata": {},
   "outputs": [
    {
     "data": {
      "text/plain": [
       "array(['Tidak'], dtype=object)"
      ]
     },
     "execution_count": 42,
     "metadata": {},
     "output_type": "execute_result"
    }
   ],
   "source": [
    "#Luthfia memiliki atribut kehadiran rajin, lingkungan kurang peduli, kerjasama tidak mampu, prakarsa inisiatif\n",
    "data_test4 = {\n",
    "    'Kehadiran' : [9.9],\n",
    "    'Lingkungan' : [1.8],\n",
    "    'Kerjasama' : [4.4],\n",
    "    'Prakarsa' : [8.9],\n",
    "}\n",
    "\n",
    "luthfia = pd.DataFrame(data_test4)\n",
    "knn.predict(luthfia)"
   ]
  },
  {
   "cell_type": "code",
   "execution_count": 43,
   "metadata": {},
   "outputs": [
    {
     "data": {
      "text/plain": [
       "array(['Tidak'], dtype=object)"
      ]
     },
     "execution_count": 43,
     "metadata": {},
     "output_type": "execute_result"
    }
   ],
   "source": [
    "#Eka memiliki atribut kehadiran rajin, lingkungan tak peduli, kerjasama mampu, prakarsa tidak inisiatif\n",
    "data_test1 = {\n",
    "    'Kehadiran' : [9.6],\n",
    "    'Lingkungan' : [5.8],\n",
    "    'Kerjasama' : [8.3],\n",
    "    'Prakarsa' : [3.5],\n",
    "}\n",
    "\n",
    "eka = pd.DataFrame(data_test5)\n",
    "knn.predict(eka)"
   ]
  },
  {
   "cell_type": "code",
   "execution_count": 44,
   "metadata": {},
   "outputs": [
    {
     "data": {
      "text/plain": [
       "array(['Tidak'], dtype=object)"
      ]
     },
     "execution_count": 44,
     "metadata": {},
     "output_type": "execute_result"
    }
   ],
   "source": [
    "#Eka memiliki atribut kehadiran rajin, lingkungan tak peduli, kerjasama mampu, prakarsa tidak inisiatif\n",
    "data_test5 = {\n",
    "    'Kehadiran' : [9.6],\n",
    "    'Lingkungan' : [5.8],\n",
    "    'Kerjasama' : [8.3],\n",
    "    'Prakarsa' : [3.5],\n",
    "}\n",
    "\n",
    "eka = pd.DataFrame(data_test5)\n",
    "knn.predict(eka)"
   ]
  },
  {
   "cell_type": "code",
   "execution_count": null,
   "metadata": {},
   "outputs": [],
   "source": []
  }
 ],
 "metadata": {
  "kernelspec": {
   "display_name": "Python 3",
   "language": "python",
   "name": "python3"
  },
  "language_info": {
   "codemirror_mode": {
    "name": "ipython",
    "version": 3
   },
   "file_extension": ".py",
   "mimetype": "text/x-python",
   "name": "python",
   "nbconvert_exporter": "python",
   "pygments_lexer": "ipython3",
   "version": "3.7.6"
  }
 },
 "nbformat": 4,
 "nbformat_minor": 4
}
